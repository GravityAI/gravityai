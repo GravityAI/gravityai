{
 "cells": [
  {
   "cell_type": "markdown",
   "metadata": {},
   "source": [
    "# Instructions on Running this Library\n",
    "\n",
    "This notebook demonstrates how to operate this library. Currently, only SHAP is fully supported. More features will be added later for SHAP, and ELI5 will also be supported.\n",
    "\n",
    "In the cell below, sample data and a model are loaded. Note that `classifiers` is a dictionary containing many models, and we are only interested in one of them for the purposes of this demonstration. When running this library yourself, you should be able to substitute your own custom trained classifier (anything compatible with the DeepSHAP library: https://shap.readthedocs.io/en/latest/index.html). Generally, tree-based classifiers from scikit-learn or neural networks are compatible with DeepSHAP, but verify compatibility for your specific model through the link mentioned earlier."
   ]
  },
  {
   "cell_type": "code",
   "execution_count": 1,
   "metadata": {},
   "outputs": [],
   "source": [
    "from explainer import SHAPExplainer\n",
    "import pickle as pkl\n",
    "\n",
    "data = [\"A model to extract geographical locations (e.g. cities) as well as points of interest within those locations.\", \n",
    "    \"Object Detection Model that identifies content areas in purchase order documents\",\n",
    "    \"This container translates English to French using Transformers. It can perform batch inference for faster inference.\", \"Neural machine translation between the writings of Shakespeare and modern English using TensorFlow.\"]\n",
    "\n",
    "with open(\"classifiers.pkl\", \"rb\") as f:\n",
    "    classifiers = pkl.load(f)\n",
    "\n",
    "with open(\"vectorizer.pkl\", \"rb\") as f:\n",
    "    vectorizer = pkl.load(f)\n",
    "\n",
    "data_vect = vectorizer.transform(data)\n",
    "data_vect = data_vect.toarray()\n"
   ]
  },
  {
   "cell_type": "markdown",
   "metadata": {},
   "source": [
    "Initiate the `shapExplainer` (custom class) object below, and get the `shap.Explainer` (object from SHAP library) object. The custom `shapExplainer` object requires the following as inputs:\n",
    "\n",
    "- model\n",
    "- processed data\n",
    "- model_type (currently defaults to \"general\", and should be left at that until more concrete classes are implemented)"
   ]
  },
  {
   "cell_type": "code",
   "execution_count": 2,
   "metadata": {},
   "outputs": [],
   "source": [
    "shapExplainer = SHAPExplainer(classifiers[\"image-object-detection\"], data_vect, model_type=\"general\")\n",
    "explanationObject = shapExplainer.getExplanationObject()"
   ]
  },
  {
   "cell_type": "markdown",
   "metadata": {},
   "source": [
    "To obtain a json of the SHAP bar graph, run the command below. Note that this command has an optional parameter, `max_features`, which limits the maximum number of features to be included in the bar graph json. It also has optional parameters `feature_labels` and `output_labels`."
   ]
  },
  {
   "cell_type": "code",
   "execution_count": 3,
   "metadata": {},
   "outputs": [
    {
     "data": {
      "text/plain": [
       "{'Yes': [array([ 647, 1561,  649, 1562,  851]),\n",
       "  [0.04242852068632599,\n",
       "   0.022618901694303972,\n",
       "   0.02085666057286466,\n",
       "   0.015829319025051344,\n",
       "   0.012365369947308457,\n",
       "   0.12109274841906822],\n",
       "  {647: 'feature_647',\n",
       "   1561: 'feature_1561',\n",
       "   649: 'feature_649',\n",
       "   1562: 'feature_1562',\n",
       "   851: 'feature_851'}],\n",
       " 'No': [array([2125, 1867,  520,   73,  603]),\n",
       "  [0.006060073922393613,\n",
       "   0.005175630794354047,\n",
       "   0.004295704255948817,\n",
       "   0.0032473543904268636,\n",
       "   0.003173090797867114,\n",
       "   0.2132396646388534],\n",
       "  {2125: 'feature_2125',\n",
       "   1867: 'feature_1867',\n",
       "   520: 'feature_520',\n",
       "   73: 'feature_73',\n",
       "   603: 'feature_603'}]}"
      ]
     },
     "execution_count": 3,
     "metadata": {},
     "output_type": "execute_result"
    }
   ],
   "source": [
    "shapExplainer.getBarPlotJson(explanationObject, output_labels=[\"Yes\", \"No\"], feature_labels = [f\"feature_{i}\" for i in range(2407)])"
   ]
  },
  {
   "cell_type": "markdown",
   "metadata": {},
   "source": [
    "The output above is a dictionary with the keys being the index of all output variables. The values are a list. At index 0, there is a numpy array showing the index of the relevant feature, and at index 1 there is a list showing the shap value at the relevant index. Note that, in most cases, the SHAP value list will contain an extra value which is the sum of the SHAP values of all remaining features. The only time this will not happen is if the max number of features is set to greater than the number of features the model uses.\n",
    "\n",
    "If `feature_labels` was provided in the input, the json list for each output will contain a third item, which will be a mapping from indices to feature name. If `output_labels` was provided, the first-level keys of the returned json will use the output labels rather than an index."
   ]
  }
 ],
 "metadata": {
  "interpreter": {
   "hash": "7f879baf593e15221330dcb3e6ca10badc363cfbfac4c17e85275b0bc81a7ad7"
  },
  "kernelspec": {
   "display_name": "Python 3.8.12 64-bit ('gravity': conda)",
   "language": "python",
   "name": "python3"
  },
  "language_info": {
   "codemirror_mode": {
    "name": "ipython",
    "version": 3
   },
   "file_extension": ".py",
   "mimetype": "text/x-python",
   "name": "python",
   "nbconvert_exporter": "python",
   "pygments_lexer": "ipython3",
   "version": "3.8.12"
  },
  "orig_nbformat": 4
 },
 "nbformat": 4,
 "nbformat_minor": 2
}
